{
 "cells": [
  {
   "cell_type": "markdown",
   "metadata": {},
   "source": [
    "## 1. INTRODUCTION"
   ]
  },
  {
   "cell_type": "markdown",
   "metadata": {},
   "source": [
    "### 1.1 Background"
   ]
  },
  {
   "cell_type": "markdown",
   "metadata": {},
   "source": [
    "Every year the lives of approximately 1.35 million people are cut short as a result of a road traffic crash. Between 20 and 50 million more people suffer non-fatal injuries, with many incurring a disability as a result of their injury.Road traffic injuries cause considerable economic losses to individuals, their families, and to nations as a whole. These losses arise from the cost of treatment as well as lost productivity for those killed or disabled by their injuries, and for family members who need to take time off work or school to care for the injured. Road traffic crashes cost most countries 3% of their gross domestic product.There could be many factors for an accident such as speeding, weather condition, mental condition of the driver, vahicle condition, road condition, non-use of helmet/seatbelt, etc.. All these factors might effect in occuring an accident. Therfore, having any/some of these factors would be benificial to warn a person about the possibility in getting into an accident and how severe it would be, so that the person would drive more carefully or may change his/her travel if it's possible.\n",
    "\n",
    "Considering all the factors, we could predict the probability of occuring an accident and how severe it would be."
   ]
  },
  {
   "cell_type": "markdown",
   "metadata": {},
   "source": [
    "### 1.2 Interest"
   ]
  },
  {
   "cell_type": "markdown",
   "metadata": {},
   "source": [
    "Obviously, people will be interested in knowing whether there would be an accident or not. Police would be interested in knowing the probability of an accident to occur so that they can take steps to avoid crashes. "
   ]
  },
  {
   "cell_type": "markdown",
   "metadata": {},
   "source": [
    "## 2. Data acquisition and cleaning"
   ]
  },
  {
   "cell_type": "markdown",
   "metadata": {},
   "source": [
    "### 2.1 Data sources"
   ]
  },
  {
   "cell_type": "markdown",
   "metadata": {},
   "source": [
    "Data set was provided by coursera platform itself which was from SDOT Traffic Management Division, Traffic Records Group. Contact Email: DOT_IT_GIS@seattle.gov  "
   ]
  },
  {
   "cell_type": "markdown",
   "metadata": {},
   "source": [
    "### 2.2 Data Description"
   ]
  },
  {
   "cell_type": "markdown",
   "metadata": {},
   "source": [
    "In total there were 194673 samples with 38 attributes, Of which I have dropped the following attributes:\n",
    "1. INCKEY, COLDETKEY, INTKEY, ST_COLCODE, SDOT_COLCODE---> all these attribute's purpose can be served by OBJECTID alone, which uniquely identifies a sample.\n",
    "2. Dropped SEGLANEKEY, CROSSWALKKEY, X,Y, JUNCTIONTYPE as all these describe about location, which can be served by LOCATION and ADDRTYPE attributes.\n",
    "3. Description of these attributes are not mentioned: EXCEPTRSNCODE, EXCEPTRSNDESC, STATUS, REPORTNO. Hence, dropped them.\n",
    "4. PERSONCOUNT  tells  about number of people in collision, as a person involved in accident ends up having injuries or may even die I have dropped this column as they would counted under INJURIES/SERIOUSINJURIES/FATALITIES.\n",
    "5. Dropped INCDATE,SEVERITYDESC as these can covered by INCDTTM, SEVERITYCODE respectively.\n",
    "\n",
    "\n",
    "SEVERITYCODE has only two values i.e 1 or 2, where 1 implies 'Property Damage Only Collision' and 2 implies 'Injury Collision'.\n",
    "So, I have merged INJURIES, SERIOUSINJURIES and FATALITIES columns as INJURIES.\n",
    "\n",
    "After all, 20 features were selected.\n",
    "\n",
    "\n"
   ]
  }
 ],
 "metadata": {
  "kernelspec": {
   "display_name": "Python 3",
   "language": "python",
   "name": "python3"
  },
  "language_info": {
   "codemirror_mode": {
    "name": "ipython",
    "version": 3
   },
   "file_extension": ".py",
   "mimetype": "text/x-python",
   "name": "python",
   "nbconvert_exporter": "python",
   "pygments_lexer": "ipython3",
   "version": "3.6.5"
  }
 },
 "nbformat": 4,
 "nbformat_minor": 2
}
